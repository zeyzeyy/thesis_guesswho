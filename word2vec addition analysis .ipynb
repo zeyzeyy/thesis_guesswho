{
 "cells": [
  {
   "cell_type": "code",
   "execution_count": 2,
   "metadata": {},
   "outputs": [],
   "source": [
    "import pandas as pd\n",
    "data = pd.read_csv(\"parsed_json/word2vec-data.csv\")"
   ]
  },
  {
   "cell_type": "code",
   "execution_count": 98,
   "metadata": {},
   "outputs": [
    {
     "data": {
      "text/html": [
       "<div>\n",
       "<style scoped>\n",
       "    .dataframe tbody tr th:only-of-type {\n",
       "        vertical-align: middle;\n",
       "    }\n",
       "\n",
       "    .dataframe tbody tr th {\n",
       "        vertical-align: top;\n",
       "    }\n",
       "\n",
       "    .dataframe thead th {\n",
       "        text-align: right;\n",
       "    }\n",
       "</style>\n",
       "<table border=\"1\" class=\"dataframe\">\n",
       "  <thead>\n",
       "    <tr style=\"text-align: right;\">\n",
       "      <th></th>\n",
       "      <th>hair</th>\n",
       "      <th>eyes</th>\n",
       "      <th>true_answer</th>\n",
       "      <th>FaceID</th>\n",
       "      <th>question</th>\n",
       "      <th>ethnicity</th>\n",
       "      <th>gender</th>\n",
       "      <th>wv1</th>\n",
       "      <th>wv2</th>\n",
       "      <th>wv3</th>\n",
       "      <th>...</th>\n",
       "      <th>wv91</th>\n",
       "      <th>wv92</th>\n",
       "      <th>wv93</th>\n",
       "      <th>wv94</th>\n",
       "      <th>wv95</th>\n",
       "      <th>wv96</th>\n",
       "      <th>wv97</th>\n",
       "      <th>wv98</th>\n",
       "      <th>wv99</th>\n",
       "      <th>wv100</th>\n",
       "    </tr>\n",
       "  </thead>\n",
       "  <tbody>\n",
       "    <tr>\n",
       "      <th>0</th>\n",
       "      <td>blond</td>\n",
       "      <td>brown</td>\n",
       "      <td>yes</td>\n",
       "      <td>IMG_9891</td>\n",
       "      <td>hair long</td>\n",
       "      <td>white</td>\n",
       "      <td>female</td>\n",
       "      <td>-0.642567</td>\n",
       "      <td>2.687369</td>\n",
       "      <td>2.729621</td>\n",
       "      <td>...</td>\n",
       "      <td>-1.724558</td>\n",
       "      <td>2.76788</td>\n",
       "      <td>3.896488</td>\n",
       "      <td>0.844199</td>\n",
       "      <td>1.424915</td>\n",
       "      <td>-3.754926</td>\n",
       "      <td>1.074339</td>\n",
       "      <td>-2.414022</td>\n",
       "      <td>-1.031057</td>\n",
       "      <td>0.111689</td>\n",
       "    </tr>\n",
       "    <tr>\n",
       "      <th>1</th>\n",
       "      <td>brown</td>\n",
       "      <td>brown</td>\n",
       "      <td>yes</td>\n",
       "      <td>IMG_0153</td>\n",
       "      <td>hair long</td>\n",
       "      <td>white</td>\n",
       "      <td>female</td>\n",
       "      <td>-0.642567</td>\n",
       "      <td>2.687369</td>\n",
       "      <td>2.729621</td>\n",
       "      <td>...</td>\n",
       "      <td>-1.724558</td>\n",
       "      <td>2.76788</td>\n",
       "      <td>3.896488</td>\n",
       "      <td>0.844199</td>\n",
       "      <td>1.424915</td>\n",
       "      <td>-3.754926</td>\n",
       "      <td>1.074339</td>\n",
       "      <td>-2.414022</td>\n",
       "      <td>-1.031057</td>\n",
       "      <td>0.111689</td>\n",
       "    </tr>\n",
       "    <tr>\n",
       "      <th>2</th>\n",
       "      <td>brown</td>\n",
       "      <td>brown</td>\n",
       "      <td>no</td>\n",
       "      <td>IMG_0446</td>\n",
       "      <td>hair long</td>\n",
       "      <td>white</td>\n",
       "      <td>female</td>\n",
       "      <td>-0.642567</td>\n",
       "      <td>2.687369</td>\n",
       "      <td>2.729621</td>\n",
       "      <td>...</td>\n",
       "      <td>-1.724558</td>\n",
       "      <td>2.76788</td>\n",
       "      <td>3.896488</td>\n",
       "      <td>0.844199</td>\n",
       "      <td>1.424915</td>\n",
       "      <td>-3.754926</td>\n",
       "      <td>1.074339</td>\n",
       "      <td>-2.414022</td>\n",
       "      <td>-1.031057</td>\n",
       "      <td>0.111689</td>\n",
       "    </tr>\n",
       "    <tr>\n",
       "      <th>3</th>\n",
       "      <td>blond</td>\n",
       "      <td>blue</td>\n",
       "      <td>no</td>\n",
       "      <td>IMG_9484</td>\n",
       "      <td>hair long</td>\n",
       "      <td>white</td>\n",
       "      <td>female</td>\n",
       "      <td>-0.642567</td>\n",
       "      <td>2.687369</td>\n",
       "      <td>2.729621</td>\n",
       "      <td>...</td>\n",
       "      <td>-1.724558</td>\n",
       "      <td>2.76788</td>\n",
       "      <td>3.896488</td>\n",
       "      <td>0.844199</td>\n",
       "      <td>1.424915</td>\n",
       "      <td>-3.754926</td>\n",
       "      <td>1.074339</td>\n",
       "      <td>-2.414022</td>\n",
       "      <td>-1.031057</td>\n",
       "      <td>0.111689</td>\n",
       "    </tr>\n",
       "    <tr>\n",
       "      <th>4</th>\n",
       "      <td>brown</td>\n",
       "      <td>brown</td>\n",
       "      <td>yes</td>\n",
       "      <td>IMG_9846</td>\n",
       "      <td>hair long</td>\n",
       "      <td>white</td>\n",
       "      <td>male</td>\n",
       "      <td>-0.642567</td>\n",
       "      <td>2.687369</td>\n",
       "      <td>2.729621</td>\n",
       "      <td>...</td>\n",
       "      <td>-1.724558</td>\n",
       "      <td>2.76788</td>\n",
       "      <td>3.896488</td>\n",
       "      <td>0.844199</td>\n",
       "      <td>1.424915</td>\n",
       "      <td>-3.754926</td>\n",
       "      <td>1.074339</td>\n",
       "      <td>-2.414022</td>\n",
       "      <td>-1.031057</td>\n",
       "      <td>0.111689</td>\n",
       "    </tr>\n",
       "  </tbody>\n",
       "</table>\n",
       "<p>5 rows × 107 columns</p>\n",
       "</div>"
      ],
      "text/plain": [
       "    hair   eyes true_answer    FaceID   question ethnicity  gender       wv1  \\\n",
       "0  blond  brown         yes  IMG_9891  hair long     white  female -0.642567   \n",
       "1  brown  brown         yes  IMG_0153  hair long     white  female -0.642567   \n",
       "2  brown  brown          no  IMG_0446  hair long     white  female -0.642567   \n",
       "3  blond   blue          no  IMG_9484  hair long     white  female -0.642567   \n",
       "4  brown  brown         yes  IMG_9846  hair long     white    male -0.642567   \n",
       "\n",
       "        wv2       wv3    ...         wv91     wv92      wv93      wv94  \\\n",
       "0  2.687369  2.729621    ...    -1.724558  2.76788  3.896488  0.844199   \n",
       "1  2.687369  2.729621    ...    -1.724558  2.76788  3.896488  0.844199   \n",
       "2  2.687369  2.729621    ...    -1.724558  2.76788  3.896488  0.844199   \n",
       "3  2.687369  2.729621    ...    -1.724558  2.76788  3.896488  0.844199   \n",
       "4  2.687369  2.729621    ...    -1.724558  2.76788  3.896488  0.844199   \n",
       "\n",
       "       wv95      wv96      wv97      wv98      wv99     wv100  \n",
       "0  1.424915 -3.754926  1.074339 -2.414022 -1.031057  0.111689  \n",
       "1  1.424915 -3.754926  1.074339 -2.414022 -1.031057  0.111689  \n",
       "2  1.424915 -3.754926  1.074339 -2.414022 -1.031057  0.111689  \n",
       "3  1.424915 -3.754926  1.074339 -2.414022 -1.031057  0.111689  \n",
       "4  1.424915 -3.754926  1.074339 -2.414022 -1.031057  0.111689  \n",
       "\n",
       "[5 rows x 107 columns]"
      ]
     },
     "execution_count": 98,
     "metadata": {},
     "output_type": "execute_result"
    }
   ],
   "source": [
    "data.head()\n",
    "# c = data['ethnicity'].isna()\n",
    "# print(c.value_counts())"
   ]
  },
  {
   "cell_type": "code",
   "execution_count": 3,
   "metadata": {},
   "outputs": [],
   "source": [
    "df = data.drop(columns = ['question', 'FaceID'])\n",
    "df = df.astype('category')\n",
    "df['true_answer'] = df['true_answer'].cat.codes\n",
    "df['gender'] = df['gender'].cat.codes\n",
    "df['hair'] = df['hair'].cat.codes\n",
    "df['eyes'] = df['eyes'].cat.codes\n",
    "df['ethnicity'] = df['ethnicity'].cat.codes"
   ]
  },
  {
   "cell_type": "code",
   "execution_count": 4,
   "metadata": {},
   "outputs": [
    {
     "data": {
      "text/html": [
       "<div>\n",
       "<style scoped>\n",
       "    .dataframe tbody tr th:only-of-type {\n",
       "        vertical-align: middle;\n",
       "    }\n",
       "\n",
       "    .dataframe tbody tr th {\n",
       "        vertical-align: top;\n",
       "    }\n",
       "\n",
       "    .dataframe thead th {\n",
       "        text-align: right;\n",
       "    }\n",
       "</style>\n",
       "<table border=\"1\" class=\"dataframe\">\n",
       "  <thead>\n",
       "    <tr style=\"text-align: right;\">\n",
       "      <th></th>\n",
       "      <th>hair</th>\n",
       "      <th>eyes</th>\n",
       "      <th>true_answer</th>\n",
       "      <th>ethnicity</th>\n",
       "      <th>gender</th>\n",
       "      <th>wv1</th>\n",
       "      <th>wv2</th>\n",
       "      <th>wv3</th>\n",
       "      <th>wv4</th>\n",
       "      <th>wv5</th>\n",
       "      <th>...</th>\n",
       "      <th>wv91</th>\n",
       "      <th>wv92</th>\n",
       "      <th>wv93</th>\n",
       "      <th>wv94</th>\n",
       "      <th>wv95</th>\n",
       "      <th>wv96</th>\n",
       "      <th>wv97</th>\n",
       "      <th>wv98</th>\n",
       "      <th>wv99</th>\n",
       "      <th>wv100</th>\n",
       "    </tr>\n",
       "  </thead>\n",
       "  <tbody>\n",
       "    <tr>\n",
       "      <th>0</th>\n",
       "      <td>1.0</td>\n",
       "      <td>1.0</td>\n",
       "      <td>1.0</td>\n",
       "      <td>2.0</td>\n",
       "      <td>0.0</td>\n",
       "      <td>-0.642567</td>\n",
       "      <td>2.687369</td>\n",
       "      <td>2.729621</td>\n",
       "      <td>-0.378051</td>\n",
       "      <td>1.19084</td>\n",
       "      <td>...</td>\n",
       "      <td>-1.724558</td>\n",
       "      <td>2.76788</td>\n",
       "      <td>3.896488</td>\n",
       "      <td>0.844199</td>\n",
       "      <td>1.424915</td>\n",
       "      <td>-3.754926</td>\n",
       "      <td>1.074339</td>\n",
       "      <td>-2.414022</td>\n",
       "      <td>-1.031057</td>\n",
       "      <td>0.111689</td>\n",
       "    </tr>\n",
       "    <tr>\n",
       "      <th>1</th>\n",
       "      <td>3.0</td>\n",
       "      <td>1.0</td>\n",
       "      <td>1.0</td>\n",
       "      <td>2.0</td>\n",
       "      <td>0.0</td>\n",
       "      <td>-0.642567</td>\n",
       "      <td>2.687369</td>\n",
       "      <td>2.729621</td>\n",
       "      <td>-0.378051</td>\n",
       "      <td>1.19084</td>\n",
       "      <td>...</td>\n",
       "      <td>-1.724558</td>\n",
       "      <td>2.76788</td>\n",
       "      <td>3.896488</td>\n",
       "      <td>0.844199</td>\n",
       "      <td>1.424915</td>\n",
       "      <td>-3.754926</td>\n",
       "      <td>1.074339</td>\n",
       "      <td>-2.414022</td>\n",
       "      <td>-1.031057</td>\n",
       "      <td>0.111689</td>\n",
       "    </tr>\n",
       "    <tr>\n",
       "      <th>2</th>\n",
       "      <td>3.0</td>\n",
       "      <td>1.0</td>\n",
       "      <td>0.0</td>\n",
       "      <td>2.0</td>\n",
       "      <td>0.0</td>\n",
       "      <td>-0.642567</td>\n",
       "      <td>2.687369</td>\n",
       "      <td>2.729621</td>\n",
       "      <td>-0.378051</td>\n",
       "      <td>1.19084</td>\n",
       "      <td>...</td>\n",
       "      <td>-1.724558</td>\n",
       "      <td>2.76788</td>\n",
       "      <td>3.896488</td>\n",
       "      <td>0.844199</td>\n",
       "      <td>1.424915</td>\n",
       "      <td>-3.754926</td>\n",
       "      <td>1.074339</td>\n",
       "      <td>-2.414022</td>\n",
       "      <td>-1.031057</td>\n",
       "      <td>0.111689</td>\n",
       "    </tr>\n",
       "    <tr>\n",
       "      <th>3</th>\n",
       "      <td>1.0</td>\n",
       "      <td>0.0</td>\n",
       "      <td>0.0</td>\n",
       "      <td>2.0</td>\n",
       "      <td>0.0</td>\n",
       "      <td>-0.642567</td>\n",
       "      <td>2.687369</td>\n",
       "      <td>2.729621</td>\n",
       "      <td>-0.378051</td>\n",
       "      <td>1.19084</td>\n",
       "      <td>...</td>\n",
       "      <td>-1.724558</td>\n",
       "      <td>2.76788</td>\n",
       "      <td>3.896488</td>\n",
       "      <td>0.844199</td>\n",
       "      <td>1.424915</td>\n",
       "      <td>-3.754926</td>\n",
       "      <td>1.074339</td>\n",
       "      <td>-2.414022</td>\n",
       "      <td>-1.031057</td>\n",
       "      <td>0.111689</td>\n",
       "    </tr>\n",
       "    <tr>\n",
       "      <th>4</th>\n",
       "      <td>3.0</td>\n",
       "      <td>1.0</td>\n",
       "      <td>1.0</td>\n",
       "      <td>2.0</td>\n",
       "      <td>1.0</td>\n",
       "      <td>-0.642567</td>\n",
       "      <td>2.687369</td>\n",
       "      <td>2.729621</td>\n",
       "      <td>-0.378051</td>\n",
       "      <td>1.19084</td>\n",
       "      <td>...</td>\n",
       "      <td>-1.724558</td>\n",
       "      <td>2.76788</td>\n",
       "      <td>3.896488</td>\n",
       "      <td>0.844199</td>\n",
       "      <td>1.424915</td>\n",
       "      <td>-3.754926</td>\n",
       "      <td>1.074339</td>\n",
       "      <td>-2.414022</td>\n",
       "      <td>-1.031057</td>\n",
       "      <td>0.111689</td>\n",
       "    </tr>\n",
       "  </tbody>\n",
       "</table>\n",
       "<p>5 rows × 105 columns</p>\n",
       "</div>"
      ],
      "text/plain": [
       "   hair  eyes  true_answer  ethnicity  gender       wv1       wv2       wv3  \\\n",
       "0   1.0   1.0          1.0        2.0     0.0 -0.642567  2.687369  2.729621   \n",
       "1   3.0   1.0          1.0        2.0     0.0 -0.642567  2.687369  2.729621   \n",
       "2   3.0   1.0          0.0        2.0     0.0 -0.642567  2.687369  2.729621   \n",
       "3   1.0   0.0          0.0        2.0     0.0 -0.642567  2.687369  2.729621   \n",
       "4   3.0   1.0          1.0        2.0     1.0 -0.642567  2.687369  2.729621   \n",
       "\n",
       "        wv4      wv5    ...         wv91     wv92      wv93      wv94  \\\n",
       "0 -0.378051  1.19084    ...    -1.724558  2.76788  3.896488  0.844199   \n",
       "1 -0.378051  1.19084    ...    -1.724558  2.76788  3.896488  0.844199   \n",
       "2 -0.378051  1.19084    ...    -1.724558  2.76788  3.896488  0.844199   \n",
       "3 -0.378051  1.19084    ...    -1.724558  2.76788  3.896488  0.844199   \n",
       "4 -0.378051  1.19084    ...    -1.724558  2.76788  3.896488  0.844199   \n",
       "\n",
       "       wv95      wv96      wv97      wv98      wv99     wv100  \n",
       "0  1.424915 -3.754926  1.074339 -2.414022 -1.031057  0.111689  \n",
       "1  1.424915 -3.754926  1.074339 -2.414022 -1.031057  0.111689  \n",
       "2  1.424915 -3.754926  1.074339 -2.414022 -1.031057  0.111689  \n",
       "3  1.424915 -3.754926  1.074339 -2.414022 -1.031057  0.111689  \n",
       "4  1.424915 -3.754926  1.074339 -2.414022 -1.031057  0.111689  \n",
       "\n",
       "[5 rows x 105 columns]"
      ]
     },
     "execution_count": 4,
     "metadata": {},
     "output_type": "execute_result"
    }
   ],
   "source": [
    "# print(df.dtypes)\n",
    "df = pd.DataFrame(df, dtype = 'float')\n",
    "df.head()"
   ]
  },
  {
   "cell_type": "code",
   "execution_count": 88,
   "metadata": {},
   "outputs": [
    {
     "data": {
      "text/plain": [
       "0    169222\n",
       "1    134634\n",
       "Name: true_answer, dtype: int64"
      ]
     },
     "execution_count": 88,
     "metadata": {},
     "output_type": "execute_result"
    }
   ],
   "source": [
    "df['true_answer'].value_counts()"
   ]
  },
  {
   "cell_type": "markdown",
   "metadata": {},
   "source": [
    "# Logicistic Regression"
   ]
  },
  {
   "cell_type": "code",
   "execution_count": 82,
   "metadata": {},
   "outputs": [],
   "source": [
    "y = df[\"true_answer\"]\n",
    "X = df.drop(columns = [\"true_answer\"])"
   ]
  },
  {
   "cell_type": "code",
   "execution_count": 21,
   "metadata": {},
   "outputs": [],
   "source": [
    "#train set\n",
    "from sklearn.model_selection import train_test_split\n",
    "X_train, X_test, y_train, y_test = \\\n",
    "        train_test_split(X, y, test_size=0.2, random_state= 0)"
   ]
  },
  {
   "cell_type": "code",
   "execution_count": 22,
   "metadata": {},
   "outputs": [],
   "source": [
    "from sklearn.linear_model import LogisticRegression \n",
    "lr = LogisticRegression()\n",
    "lr.fit(X_train, y_train)\n",
    "y_test = lr.predict(X_test)"
   ]
  },
  {
   "cell_type": "code",
   "execution_count": 25,
   "metadata": {},
   "outputs": [
    {
     "name": "stdout",
     "output_type": "stream",
     "text": [
      "             precision    recall  f1-score   support\n",
      "\n",
      "          0       0.56      1.00      0.72    169222\n",
      "          1       0.00      0.00      0.00    134634\n",
      "\n",
      "avg / total       0.31      0.56      0.40    303856\n",
      "\n"
     ]
    },
    {
     "name": "stderr",
     "output_type": "stream",
     "text": [
      "/Users/zeynep/anaconda3/lib/python3.6/site-packages/sklearn/metrics/classification.py:1135: UndefinedMetricWarning: Precision and F-score are ill-defined and being set to 0.0 in labels with no predicted samples.\n",
      "  'precision', 'predicted', average, warn_for)\n"
     ]
    }
   ],
   "source": [
    "y_baseline = [y.value_counts()[:1].index[0]] * len(y)\n",
    "from sklearn.metrics import classification_report \n",
    "print(classification_report(y, y_baseline))"
   ]
  },
  {
   "cell_type": "code",
   "execution_count": 28,
   "metadata": {},
   "outputs": [],
   "source": [
    "from sklearn.metrics import mean_squared_error \n",
    "import numpy as np\n",
    "y_pred = lr.predict(X_test)\n",
    "# rmse_model = np.sqrt(mean_squared_error(y_test, y_pred))\n",
    "# rmse_model\n"
   ]
  },
  {
   "cell_type": "code",
   "execution_count": 29,
   "metadata": {},
   "outputs": [
    {
     "name": "stdout",
     "output_type": "stream",
     "text": [
      "a) Confusion matrix:\n",
      "[[50864     0]\n",
      " [    0  9908]]\n"
     ]
    }
   ],
   "source": [
    "from sklearn.metrics import confusion_matrix\n",
    "confusionMatrix = confusion_matrix(y_test, y_pred)\n",
    "print(\"a) Confusion matrix:\\n%s\" % confusionMatrix)"
   ]
  },
  {
   "cell_type": "code",
   "execution_count": 31,
   "metadata": {},
   "outputs": [
    {
     "data": {
      "text/plain": [
       "LogisticRegression(C=1.0, class_weight=None, dual=False, fit_intercept=True,\n",
       "          intercept_scaling=1, max_iter=100, multi_class='ovr', n_jobs=1,\n",
       "          penalty='l2', random_state=None, solver='liblinear', tol=0.0001,\n",
       "          verbose=0, warm_start=False)"
      ]
     },
     "execution_count": 31,
     "metadata": {},
     "output_type": "execute_result"
    }
   ],
   "source": [
    "from sklearn.linear_model import LogisticRegression\n",
    "from sklearn import metrics\n",
    "X_train, X_test, y_train, y_test = train_test_split(X, y, test_size=0.2, random_state= 42)\n",
    "logreg = LogisticRegression()\n",
    "logreg.fit(X_train, y_train)"
   ]
  },
  {
   "cell_type": "code",
   "execution_count": 32,
   "metadata": {},
   "outputs": [
    {
     "name": "stdout",
     "output_type": "stream",
     "text": [
      "Accuracy of logistic regression classifier on test set: 0.57\n"
     ]
    }
   ],
   "source": [
    "y_pred = logreg.predict(X_test)\n",
    "print('Accuracy of logistic regression classifier on test set: {:.2f}'.format(logreg.score(X_test, y_test)))"
   ]
  },
  {
   "cell_type": "code",
   "execution_count": 33,
   "metadata": {},
   "outputs": [
    {
     "name": "stdout",
     "output_type": "stream",
     "text": [
      "[[29369  4332]\n",
      " [22073  4998]]\n"
     ]
    }
   ],
   "source": [
    "from sklearn.metrics import confusion_matrix\n",
    "confusion_matrix = confusion_matrix(y_test, y_pred)\n",
    "print(confusion_matrix)"
   ]
  },
  {
   "cell_type": "markdown",
   "metadata": {},
   "source": [
    "# k-Nearest Neighbours"
   ]
  },
  {
   "cell_type": "code",
   "execution_count": 40,
   "metadata": {},
   "outputs": [],
   "source": [
    "y = df[\"true_answer\"]\n",
    "X = df.drop(columns = [\"true_answer\"])"
   ]
  },
  {
   "cell_type": "code",
   "execution_count": 49,
   "metadata": {},
   "outputs": [],
   "source": [
    "# Import train_test_split function\n",
    "from sklearn.model_selection import train_test_split\n",
    "\n",
    "# Split dataset into training set and test set\n",
    "X_train, X_test, y_train, y_test = train_test_split(X, y, test_size=0.2) # 70% training and 30% test"
   ]
  },
  {
   "cell_type": "code",
   "execution_count": 50,
   "metadata": {},
   "outputs": [],
   "source": [
    "#Import knearest neighbors Classifier model\n",
    "from sklearn.neighbors import KNeighborsClassifier\n",
    "\n",
    "#Create KNN Classifier\n",
    "knn = KNeighborsClassifier(n_neighbors=5)\n",
    "\n",
    "#Train the model using the training sets\n",
    "knn.fit(X_train, y_train)\n",
    "\n",
    "#Predict the response for test dataset\n",
    "y_pred = knn.predict(X_test)"
   ]
  },
  {
   "cell_type": "code",
   "execution_count": 51,
   "metadata": {},
   "outputs": [
    {
     "name": "stdout",
     "output_type": "stream",
     "text": [
      "Accuracy: 0.6543967616665569\n"
     ]
    }
   ],
   "source": [
    "#Import scikit-learn metrics module for accuracy calculation\n",
    "from sklearn import metrics\n",
    "# Model Accuracy, how often is the classifier correct?\n",
    "print(\"Accuracy:\",metrics.accuracy_score(y_test, y_pred))"
   ]
  },
  {
   "cell_type": "code",
   "execution_count": 52,
   "metadata": {},
   "outputs": [
    {
     "name": "stdout",
     "output_type": "stream",
     "text": [
      "Accuracy: 0.6523398933719476\n"
     ]
    }
   ],
   "source": [
    "#Create KNN Classifier with 7 neighbors\n",
    "knn = KNeighborsClassifier(n_neighbors=7)\n",
    "\n",
    "#Train the model using the training sets\n",
    "knn.fit(X_train, y_train)\n",
    "\n",
    "#Predict the response for test dataset\n",
    "y_pred = knn.predict(X_test)\n",
    "# Model Accuracy, how often is the classifier correct?\n",
    "print(\"Accuracy:\",metrics.accuracy_score(y_test, y_pred))"
   ]
  },
  {
   "cell_type": "code",
   "execution_count": 55,
   "metadata": {},
   "outputs": [
    {
     "name": "stdout",
     "output_type": "stream",
     "text": [
      "[[24627  9315]\n",
      " [11813 15017]]\n"
     ]
    }
   ],
   "source": [
    "from sklearn.metrics import confusion_matrix\n",
    "confusion_matrix = confusion_matrix(y_test, y_pred)\n",
    "print(confusion_matrix)\n",
    "#confusion_matrix.sum()"
   ]
  },
  {
   "cell_type": "markdown",
   "metadata": {},
   "source": [
    "# Random Forest"
   ]
  },
  {
   "cell_type": "code",
   "execution_count": 6,
   "metadata": {},
   "outputs": [],
   "source": [
    "y = df[\"true_answer\"]\n",
    "X = df.drop(columns = [\"true_answer\"])"
   ]
  },
  {
   "cell_type": "code",
   "execution_count": 7,
   "metadata": {},
   "outputs": [],
   "source": [
    "# Using Skicit-learn to split data into training and testing sets\n",
    "#train set\n",
    "from sklearn.model_selection import train_test_split\n",
    "X_train, X_test, y_train, y_test = \\\n",
    "        train_test_split(X, y, test_size=0.2)"
   ]
  },
  {
   "cell_type": "code",
   "execution_count": 138,
   "metadata": {},
   "outputs": [],
   "source": [
    "from sklearn.ensemble import RandomForestClassifier\n",
    "from math import sqrt\n",
    "#Create a Gaussian Classifier\n",
    "clf=RandomForestClassifier(max_features = 10)\n",
    "\n",
    "#Train the model using the training sets y_pred=clf.predict(X_test)\n",
    "clf.fit(X_train,y_train)\n",
    "\n",
    "y_pred=clf.predict(X_test)"
   ]
  },
  {
   "cell_type": "code",
   "execution_count": 132,
   "metadata": {},
   "outputs": [
    {
     "name": "stdout",
     "output_type": "stream",
     "text": [
      "Accuracy: 0.6717402751267031\n"
     ]
    }
   ],
   "source": [
    "#Import scikit-learn metrics module for accuracy calculation\n",
    "from sklearn import metrics\n",
    "# Model Accuracy, how often is the classifier correct?\n",
    "print(\"Accuracy:\",metrics.accuracy_score(y_test, y_pred))"
   ]
  },
  {
   "cell_type": "code",
   "execution_count": 148,
   "metadata": {},
   "outputs": [
    {
     "name": "stdout",
     "output_type": "stream",
     "text": [
      "Index(['hair', 'eyes', 'ethnicity', 'gender', 'wv1', 'wv2', 'wv3', 'wv4',\n",
      "       'wv5', 'wv6',\n",
      "       ...\n",
      "       'wv91', 'wv92', 'wv93', 'wv94', 'wv95', 'wv96', 'wv97', 'wv98', 'wv99',\n",
      "       'wv100'],\n",
      "      dtype='object', length=104)\n"
     ]
    }
   ],
   "source": [
    "print(X.columns)"
   ]
  },
  {
   "cell_type": "code",
   "execution_count": 152,
   "metadata": {},
   "outputs": [
    {
     "data": {
      "text/plain": [
       "hair         0.134005\n",
       "eyes         0.121220\n",
       "gender       0.112236\n",
       "ethnicity    0.093987\n",
       "wv53         0.013327\n",
       "wv100        0.011098\n",
       "wv87         0.008552\n",
       "wv55         0.008132\n",
       "wv13         0.008120\n",
       "wv84         0.008014\n",
       "wv16         0.007762\n",
       "wv60         0.007757\n",
       "wv40         0.007525\n",
       "wv42         0.007417\n",
       "wv34         0.007304\n",
       "wv94         0.007293\n",
       "wv36         0.007101\n",
       "wv81         0.007072\n",
       "wv70         0.006804\n",
       "wv26         0.006708\n",
       "wv15         0.006460\n",
       "wv8          0.006411\n",
       "wv39         0.006312\n",
       "wv85         0.006292\n",
       "wv43         0.006206\n",
       "wv67         0.006108\n",
       "wv5          0.006087\n",
       "wv54         0.006045\n",
       "wv61         0.006035\n",
       "wv78         0.005981\n",
       "               ...   \n",
       "wv65         0.004496\n",
       "wv37         0.004493\n",
       "wv74         0.004457\n",
       "wv30         0.004439\n",
       "wv79         0.004416\n",
       "wv58         0.004409\n",
       "wv89         0.004402\n",
       "wv23         0.004391\n",
       "wv52         0.004343\n",
       "wv73         0.004322\n",
       "wv28         0.004304\n",
       "wv17         0.004281\n",
       "wv75         0.004266\n",
       "wv7          0.004258\n",
       "wv29         0.004249\n",
       "wv35         0.004170\n",
       "wv99         0.004140\n",
       "wv48         0.004036\n",
       "wv66         0.004026\n",
       "wv77         0.004000\n",
       "wv41         0.003949\n",
       "wv83         0.003926\n",
       "wv1          0.003917\n",
       "wv20         0.003896\n",
       "wv50         0.003816\n",
       "wv62         0.003724\n",
       "wv2          0.003716\n",
       "wv9          0.003711\n",
       "wv18         0.003482\n",
       "wv59         0.003395\n",
       "Length: 104, dtype: float64"
      ]
     },
     "execution_count": 152,
     "metadata": {},
     "output_type": "execute_result"
    }
   ],
   "source": [
    "import pandas as pd\n",
    "feature_imp = pd.Series(clf.feature_importances_,index=X.columns).sort_values(ascending=False)\n",
    "feature_imp"
   ]
  },
  {
   "cell_type": "code",
   "execution_count": 174,
   "metadata": {},
   "outputs": [],
   "source": [
    "X = df[['hair','eyes','ethnicity','gender', 'wv53','wv100']]\n",
    "y = df['true_answer']"
   ]
  },
  {
   "cell_type": "code",
   "execution_count": 175,
   "metadata": {},
   "outputs": [],
   "source": [
    "from sklearn.model_selection import train_test_split\n",
    "X_train, X_test, y_train, y_test = \\\n",
    "        train_test_split(X, y, test_size=0.2)"
   ]
  },
  {
   "cell_type": "code",
   "execution_count": 179,
   "metadata": {},
   "outputs": [],
   "source": [
    "from sklearn.ensemble import RandomForestClassifier\n",
    "from math import sqrt\n",
    "#Create a Gaussian Classifier\n",
    "clf=RandomForestClassifier(n_estimators=100)\n",
    "\n",
    "#Train the model using the training sets y_pred=clf.predict(X_test)\n",
    "clf.fit(X_train,y_train)\n",
    "\n",
    "y_pred=clf.predict(X_test)"
   ]
  },
  {
   "cell_type": "code",
   "execution_count": 180,
   "metadata": {},
   "outputs": [
    {
     "name": "stdout",
     "output_type": "stream",
     "text": [
      "Accuracy: 0.657671295991575\n"
     ]
    }
   ],
   "source": [
    "#Import scikit-learn metrics module for accuracy calculation\n",
    "from sklearn import metrics\n",
    "# Model Accuracy, how often is the classifier correct?\n",
    "print(\"Accuracy:\",metrics.accuracy_score(y_test, y_pred))"
   ]
  },
  {
   "cell_type": "markdown",
   "metadata": {},
   "source": [
    "# Support Vector Machines"
   ]
  },
  {
   "cell_type": "code",
   "execution_count": null,
   "metadata": {},
   "outputs": [],
   "source": [
    "#Import svm model\n",
    "from sklearn import svm\n",
    "\n",
    "#Create a svm Classifier\n",
    "clf = svm.SVC(kernel='rbf') # rbf Kernel\n",
    "\n",
    "#Train the model using the training sets\n",
    "clf.fit(X_train, y_train)\n",
    "\n",
    "#Predict the response for test dataset\n",
    "y_pred = clf.predict(X_test)"
   ]
  },
  {
   "cell_type": "code",
   "execution_count": null,
   "metadata": {},
   "outputs": [],
   "source": [
    "#Import scikit-learn metrics module for accuracy calculation\n",
    "from sklearn import metrics\n",
    "\n",
    "# Model Accuracy: how often is the classifier correct?\n",
    "print(\"Accuracy:\",metrics.accuracy_score(y_test, y_pred))"
   ]
  },
  {
   "cell_type": "code",
   "execution_count": null,
   "metadata": {},
   "outputs": [],
   "source": [
    "# Model Precision: what percentage of positive tuples are labeled as such?\n",
    "print(\"Precision:\",metrics.precision_score(y_test, y_pred))\n",
    "\n",
    "# Model Recall: what percentage of positive tuples are labelled as such?\n",
    "print(\"Recall:\",metrics.recall_score(y_test, y_pred))"
   ]
  }
 ],
 "metadata": {
  "kernelspec": {
   "display_name": "Python 3",
   "language": "python",
   "name": "python3"
  },
  "language_info": {
   "codemirror_mode": {
    "name": "ipython",
    "version": 3
   },
   "file_extension": ".py",
   "mimetype": "text/x-python",
   "name": "python",
   "nbconvert_exporter": "python",
   "pygments_lexer": "ipython3",
   "version": "3.6.5"
  }
 },
 "nbformat": 4,
 "nbformat_minor": 2
}
